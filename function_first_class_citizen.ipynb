{
 "cells": [
  {
   "cell_type": "markdown",
   "metadata": {
    "slideshow": {
     "slide_type": "slide"
    }
   },
   "source": [
    "# Function as First Citizen\n",
    "\n",
    "_Python_ considers function as object, not as a built-in and language core feature, but as an object programer can handle. A kind of variable with a behavior."
   ]
  },
  {
   "cell_type": "markdown",
   "metadata": {},
   "source": [
    "You can make the same vith a block of behavior: a function..."
   ]
  },
  {
   "cell_type": "markdown",
   "metadata": {
    "slideshow": {
     "slide_type": "subslide"
    }
   },
   "source": [
    "As you can says :\n",
    "\n",
    "_a_ is an integer\n",
    "```python\n",
    "a=1\n",
    "```\n",
    "_b_ is a string\n",
    "```python\n",
    "b='hi!'\n",
    "```\n",
    "or _c_ is Plane()\n",
    "```python\n",
    "c=Plane()\n",
    "```\n",
    "\n",
    "You could says _cube_ is a block of behavior\n",
    "```python\n",
    "def cube(n)\n",
    "    return n*n*n\n",
    "```\n",
    "\n",
    "Let's try do this: "
   ]
  },
  {
   "cell_type": "code",
   "execution_count": null,
   "metadata": {
    "slideshow": {
     "slide_type": "subslide"
    }
   },
   "outputs": [],
   "source": [
    "def cube(n):\n",
    "    return n*n*n"
   ]
  },
  {
   "cell_type": "code",
   "execution_count": null,
   "metadata": {},
   "outputs": [],
   "source": [
    "print(cube(2), cube(5))"
   ]
  },
  {
   "cell_type": "markdown",
   "metadata": {
    "slideshow": {
     "slide_type": "subslide"
    }
   },
   "source": [
    "This function has properties"
   ]
  },
  {
   "cell_type": "code",
   "execution_count": null,
   "metadata": {},
   "outputs": [],
   "source": [
    "'/'.join(dir(cube))"
   ]
  },
  {
   "cell_type": "markdown",
   "metadata": {
    "slideshow": {
     "slide_type": "subslide"
    }
   },
   "source": [
    "This function can be assigned to another variable as _foo_."
   ]
  },
  {
   "cell_type": "code",
   "execution_count": null,
   "metadata": {},
   "outputs": [],
   "source": [
    "foo = cube\n",
    "\n",
    "print(foo(3), foo.__name__)"
   ]
  },
  {
   "cell_type": "markdown",
   "metadata": {
    "slideshow": {
     "slide_type": "subslide"
    }
   },
   "source": [
    "Passed as an argument:"
   ]
  },
  {
   "cell_type": "code",
   "execution_count": null,
   "metadata": {},
   "outputs": [],
   "source": [
    "def apply_to_numbers(fn,*numbers):\n",
    "    for n in numbers:\n",
    "        print(f'{fn.__name__}({n}) ->  {fn(n)}')\n",
    "\n",
    "apply_to_numbers(cube,1,2,5,250)\n"
   ]
  },
  {
   "cell_type": "markdown",
   "metadata": {
    "slideshow": {
     "slide_type": "subslide"
    }
   },
   "source": [
    "It could also _deleted_ or _unset_"
   ]
  },
  {
   "cell_type": "code",
   "execution_count": null,
   "metadata": {},
   "outputs": [],
   "source": [
    "def foo():\n",
    "    print(\"foo\")\n",
    "foo()"
   ]
  },
  {
   "cell_type": "code",
   "execution_count": null,
   "metadata": {},
   "outputs": [],
   "source": [
    "del foo\n",
    "try:B\n",
    "    foo()\n",
    "    raise Exception('Must fail')\n",
    "except NameError:\n",
    "    pass"
   ]
  },
  {
   "cell_type": "markdown",
   "metadata": {
    "slideshow": {
     "slide_type": "subslide"
    }
   },
   "source": [
    "A function could be returned as a regular value"
   ]
  },
  {
   "cell_type": "code",
   "execution_count": null,
   "metadata": {},
   "outputs": [],
   "source": [
    "import types\n",
    "\n",
    "def create_upper_function():\n",
    "    def bar(x):\n",
    "        return x.upper()\n",
    "    return bar\n",
    "\n",
    "fn  = create_upper_function()\n",
    "assert fn('dog') == 'DOG'\n",
    "assert fn('cat') == 'CAT'\n",
    "assert isinstance(fn, types.FunctionType)"
   ]
  },
  {
   "cell_type": "markdown",
   "metadata": {
    "slideshow": {
     "slide_type": "subslide"
    }
   },
   "source": [
    "Although we created the `bar` function, it is undefined _outside_ of `create_upper_function`.\n",
    "\n",
    "Its scope is, as a regular variable, limited to the body of the outer function."
   ]
  },
  {
   "cell_type": "code",
   "execution_count": null,
   "metadata": {},
   "outputs": [],
   "source": [
    "try:\n",
    "    assert bar is not None\n",
    "    raise Exception('It must not have been raised')\n",
    "except NameError:\n",
    "    pass"
   ]
  },
  {
   "cell_type": "markdown",
   "metadata": {
    "slideshow": {
     "slide_type": "slide"
    }
   },
   "source": [
    "## Advantages of this \n",
    "\n",
    "With this feature you can **manage** behaviors as simple variables and apply some well-known patterns."
   ]
  },
  {
   "cell_type": "markdown",
   "metadata": {
    "slideshow": {
     "slide_type": "slide"
    }
   },
   "source": [
    "## Space craft command module\n",
    "\n",
    "Imagine we have to define a control module for a aquatic drone.\n",
    "\n",
    "We sent tele commands (TC) to this drone and it moves according to them.\n",
    "\n",
    "There's three available\n",
    "\n",
    "* Heading, whose quantity in an angle (degres)\n",
    "* Distance to advance into the current heading (meters)\n",
    "* Depth to go up and down (meters) "
   ]
  },
  {
   "cell_type": "markdown",
   "metadata": {
    "slideshow": {
     "slide_type": "subslide"
    }
   },
   "source": [
    "Commands are sent by as bunch as :\n",
    "\n",
    "_h:122.97|a:200|h:125|a:20_\n",
    "\n",
    "In traditional language we would have this (pseudo language)\n",
    "\n",
    "```\n",
    "sequence = CONVERT_TO_COMMAND(tc)\n",
    "\n",
    "FOR EACH (command,quantity) IN sequence\n",
    "BEGIN\n",
    "    IF command == 'heading' SET_HEADING(quantity)\n",
    "    IF command == 'advance' ADVANCE(quantity)\n",
    "    IF command == 'depth' SET_DEPTH(quantity)\n",
    "END\n",
    "```\n",
    "\n",
    "In *python*, we could do differently."
   ]
  },
  {
   "cell_type": "code",
   "execution_count": null,
   "metadata": {
    "slideshow": {
     "slide_type": "subslide"
    }
   },
   "outputs": [],
   "source": [
    "tc = 'h:122.97|a:200|h:125|a:20'\n",
    "print(tc.split('|'))\n",
    "[tuple(sequence.split(':')) for sequence in tc.split('|')]\n"
   ]
  },
  {
   "cell_type": "code",
   "execution_count": null,
   "metadata": {
    "cell_style": "center",
    "slideshow": {
     "slide_type": "subslide"
    }
   },
   "outputs": [],
   "source": [
    "# Define commands\n",
    "\n",
    "def set_heading_to(angle):\n",
    "    print('HEADING TO ',angle)\n",
    "\n",
    "def advance(distance):\n",
    "    print('ADVANCE TO ', distance)\n",
    "\n",
    "def set_depth(distance):\n",
    "    print('DEPTH TO', distance)\n",
    "\n",
    "# Map them to a TC letter\n",
    "mapping = {\n",
    "    'h': set_heading_to,\n",
    "    'a': advance,\n",
    "    'd': set_depth\n",
    "}"
   ]
  },
  {
   "cell_type": "code",
   "execution_count": null,
   "metadata": {
    "cell_style": "center",
    "slideshow": {
     "slide_type": "subslide"
    }
   },
   "outputs": [],
   "source": [
    "# Run TC\n",
    "def run_tc(mappinging, tc):\n",
    "    \n",
    "    commands = [tuple(sequence.split(':')) for sequence in tc.split('|')]\n",
    "    \n",
    "    for command in commands:\n",
    "        type_command = command[0]\n",
    "        quantity_command = command[1]\n",
    "        fn = mapping[type_command]\n",
    "        \n",
    "        fn(quantity_command)\n",
    "        \n",
    "run_tc(mapping, 'h:122.97|a:200|h:125|a:20')"
   ]
  },
  {
   "cell_type": "markdown",
   "metadata": {
    "slideshow": {
     "slide_type": "subslide"
    }
   },
   "source": [
    "This method allow to decouple the `run_tc` from the available commands.\n",
    "\n",
    "If we want to add a new command as *incline(angle)*, no problem"
   ]
  },
  {
   "cell_type": "code",
   "execution_count": null,
   "metadata": {},
   "outputs": [],
   "source": [
    "def incline(angle):\n",
    "    print('ANGLE TO ',angle)\n",
    "    \n",
    "mapping['i'] = incline\n",
    "\n",
    "run_tc(mapping, 'h:122.97|i:12|h:125|a:20')"
   ]
  },
  {
   "cell_type": "markdown",
   "metadata": {
    "slideshow": {
     "slide_type": "slide"
    }
   },
   "source": [
    "## Chain functions\n",
    "\n",
    "Imagine we have a lot of conditions to check about a password for exemple.\n",
    "\n",
    "It must :\n",
    "\n",
    "- has a lenght between 3 and 10 \n",
    "- contains a upper case character at least\n"
   ]
  },
  {
   "cell_type": "code",
   "execution_count": null,
   "metadata": {
    "slideshow": {
     "slide_type": "subslide"
    }
   },
   "outputs": [],
   "source": [
    "def check_has_at_least_an_uppercase(s):\n",
    "    return any(c.isupper() for c in s)\n",
    "\n",
    "def check_len(s):\n",
    "    return 3<= len(s) <= 10\n",
    "\n",
    "# - usual version\n",
    "\n",
    "def checking(s):\n",
    "    return check_has_at_least_an_uppercase(s) and check_len(s)\n",
    "\n",
    "assert checking('FOO')\n",
    "assert not checking('Fo')\n",
    "assert checking('Foo')\n",
    "assert not checking('foo')\n",
    "\n"
   ]
  },
  {
   "cell_type": "markdown",
   "metadata": {
    "slideshow": {
     "slide_type": "subslide"
    }
   },
   "source": [
    "Bt what if we want to add another checking has\n",
    "\n",
    "* contains a digit at least\n",
    "\n"
   ]
  },
  {
   "cell_type": "code",
   "execution_count": null,
   "metadata": {},
   "outputs": [],
   "source": [
    "def check_has_a_least_one_digit(s):\n",
    "    return any(c.isdigit() for c in s)"
   ]
  },
  {
   "cell_type": "markdown",
   "metadata": {
    "slideshow": {
     "slide_type": "subslide"
    }
   },
   "source": [
    "We have to change `checking`..."
   ]
  },
  {
   "cell_type": "code",
   "execution_count": null,
   "metadata": {},
   "outputs": [],
   "source": [
    "def checking(s):\n",
    "    return check_has_at_least_an_uppercase(s) and check_len(s) and check_has_a_least_one_digit(s)"
   ]
  },
  {
   "cell_type": "markdown",
   "metadata": {
    "slideshow": {
     "slide_type": "subslide"
    }
   },
   "source": [
    "The best possibility is to apply a pipeline of any ` check_*` functions."
   ]
  },
  {
   "cell_type": "code",
   "execution_count": null,
   "metadata": {},
   "outputs": [],
   "source": [
    "import sys\n",
    "current_module = sys.modules[__name__]\n",
    "names= [name for name in dir(current_module) if name.startswith('check_')]\n",
    "\n",
    "def checking(s):\n",
    "    return all(getattr(current_module, name).__call__(s) for name in names)"
   ]
  },
  {
   "cell_type": "code",
   "execution_count": null,
   "metadata": {},
   "outputs": [],
   "source": [
    "assert not checking('foo')"
   ]
  },
  {
   "cell_type": "code",
   "execution_count": null,
   "metadata": {},
   "outputs": [],
   "source": [
    "assert checking('Foo1')"
   ]
  }
 ],
 "metadata": {
  "celltoolbar": "Diaporama",
  "kernelspec": {
   "display_name": "Python 3",
   "language": "python",
   "name": "python3"
  },
  "language_info": {
   "codemirror_mode": {
    "name": "ipython",
    "version": 3
   },
   "file_extension": ".py",
   "mimetype": "text/x-python",
   "name": "python",
   "nbconvert_exporter": "python",
   "pygments_lexer": "ipython3",
   "version": "3.6.8"
  },
  "toc": {
   "base_numbering": 1,
   "nav_menu": {},
   "number_sections": false,
   "sideBar": true,
   "skip_h1_title": false,
   "title_cell": "Table of Contents",
   "title_sidebar": "Contents",
   "toc_cell": false,
   "toc_position": {},
   "toc_section_display": true,
   "toc_window_display": false
  }
 },
 "nbformat": 4,
 "nbformat_minor": 2
}
